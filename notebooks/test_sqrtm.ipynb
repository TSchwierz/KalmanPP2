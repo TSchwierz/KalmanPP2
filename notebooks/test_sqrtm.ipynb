{
 "cells": [
  {
   "cell_type": "code",
   "execution_count": 1,
   "id": "71e2fd0d-f763-4233-81b3-a5159526c3a6",
   "metadata": {},
   "source": [
    "import numpy as np\n",
    "import scipy\n",
    "\n",
    "\n",
    "import jax \n",
    "import jax.numpy as jnp"
   ],
   "outputs": []
  },
  {
   "cell_type": "code",
   "execution_count": 2,
   "id": "fcdc7ab9-23fa-4b2a-be8f-79657f27ceae",
   "metadata": {},
   "source": [
    "jax.devices()"
   ],
   "outputs": []
  },
  {
   "cell_type": "code",
   "execution_count": 165,
   "id": "ad2dcd01-2d66-4c50-8a34-8267d8bcd9c7",
   "metadata": {},
   "source": [
    "a = np.random.normal(size=(500, 500))"
   ],
   "outputs": []
  },
  {
   "cell_type": "code",
   "execution_count": 166,
   "id": "c2d37752-90fb-4a28-a65f-37e652d5d712",
   "metadata": {},
   "source": [
    "b = a @ a.T"
   ],
   "outputs": []
  },
  {
   "cell_type": "code",
   "execution_count": 167,
   "id": "6a434d7e-fd5c-49cd-83df-eae0b327309c",
   "metadata": {},
   "source": [
    "b32 = b.astype('float32')"
   ],
   "outputs": []
  },
  {
   "cell_type": "code",
   "execution_count": 168,
   "id": "6a35e95c-a3ea-45bc-bd74-694af696410e",
   "metadata": {},
   "source": [
    "sqrt_np = scipy.linalg.sqrtm(b32)"
   ],
   "outputs": []
  },
  {
   "cell_type": "code",
   "execution_count": 169,
   "id": "1f9f274a-5c79-4846-8add-1b9cfef4e48d",
   "metadata": {},
   "source": [
    "def sqrtm_newton_schulz(a):\n",
    "    k = 10\n",
    "    normalization = np.trace(a)\n",
    "    y = a.copy() / normalization\n",
    "    z = np.eye(a.shape[0])\n",
    "    identity = np.eye(a.shape[0])\n",
    "    for i in range(k):\n",
    "        y_now = 0.5 * y @ (3. * identity - z @ y)\n",
    "        z_now = 0.5 * (3. * identity - z @ y) @ z\n",
    "        y = y_now\n",
    "        z = z_now\n",
    "    return y * np.sqrt(normalization)"
   ],
   "outputs": []
  },
  {
   "cell_type": "code",
   "execution_count": 170,
   "id": "62aeb571-ae10-459e-8a74-d36c46e047ee",
   "metadata": {},
   "source": [
    "sqrt_ns = sqrtm_newton_schulz(b32)"
   ],
   "outputs": []
  },
  {
   "cell_type": "code",
   "execution_count": 171,
   "id": "c3e91ba4-442a-4280-a440-90aabfd6b8db",
   "metadata": {},
   "source": [
    "np.mean(sqrt_np.ravel())"
   ],
   "outputs": []
  },
  {
   "cell_type": "code",
   "execution_count": 172,
   "id": "ba19203f-3607-4b02-b493-cd6c0bbf358b",
   "metadata": {},
   "source": [
    "np.mean((sqrt_ns-sqrt_np).ravel())"
   ],
   "outputs": []
  },
  {
   "cell_type": "code",
   "execution_count": 175,
   "id": "a2fa38ea-5c8e-4167-84d1-c2766b25e901",
   "metadata": {},
   "source": [
    "%%timeit\n",
    "\n",
    "sqrt_np = scipy.linalg.sqrtm(b32)"
   ],
   "outputs": []
  },
  {
   "cell_type": "code",
   "execution_count": 176,
   "id": "f54ae889-81f6-44df-b4dc-c6d8a833f67e",
   "metadata": {},
   "source": [
    "%%timeit\n",
    "\n",
    "sqrt_ns = sqrtm_newton_schulz(b32)"
   ],
   "outputs": []
  },
  {
   "cell_type": "code",
   "execution_count": 157,
   "id": "73f2a6ed-1106-40ef-bbce-b4ed2534c61a",
   "metadata": {},
   "source": [
    "jax.devices()"
   ],
   "outputs": []
  },
  {
   "cell_type": "code",
   "execution_count": 177,
   "id": "ae7733a4-5aa3-470c-a91e-a144e11e0905",
   "metadata": {},
   "source": [
    "b32_j = jnp.array(b32)"
   ],
   "outputs": []
  },
  {
   "cell_type": "code",
   "execution_count": 178,
   "id": "bb917e29-db35-49fc-ad23-edce50938425",
   "metadata": {},
   "source": [
    "@jax.jit\n",
    "def sqrtm_newton_schulz_jax(a):\n",
    "    k = 10\n",
    "    normalization = jnp.trace(a)\n",
    "    y = a.copy() / normalization\n",
    "    z = jnp.eye(a.shape[0])\n",
    "    identity = jnp.eye(a.shape[0])\n",
    "    for i in range(k):\n",
    "        y_now = 0.5 * y @ (3. * identity - z @ y)\n",
    "        z_now = 0.5 * (3. * identity - z @ y) @ z\n",
    "        y = y_now\n",
    "        z = z_now\n",
    "    return y * jnp.sqrt(normalization)"
   ],
   "outputs": []
  },
  {
   "cell_type": "code",
   "execution_count": 179,
   "id": "84e4b88b-f311-4e17-9b2e-4c697a8a08d6",
   "metadata": {},
   "source": [
    "sqrt_ns_j = sqrtm_newton_schulz(b32_j)"
   ],
   "outputs": []
  },
  {
   "cell_type": "code",
   "execution_count": 180,
   "id": "693650fd-a184-4a2d-8951-9256c791c999",
   "metadata": {},
   "source": [
    "np.mean((sqrt_ns_j-sqrt_np).ravel())"
   ],
   "outputs": []
  },
  {
   "cell_type": "code",
   "execution_count": 181,
   "id": "8d6113d5-434f-4d63-aa30-35fb80c4f8b0",
   "metadata": {},
   "source": [
    "%%timeit\n",
    "\n",
    "sqrt_ns = sqrtm_newton_schulz_jax(b32_j)"
   ],
   "outputs": []
  },
  {
   "cell_type": "code",
   "execution_count": 163,
   "id": "18958ddb-780b-4bfb-ae8d-72f59ddf46dc",
   "metadata": {},
   "source": [
    "@jax.jit\n",
    "def sqrtm_newton_schulz_jax_loop(a):\n",
    "\n",
    "    def body_fun(i, pars):\n",
    "        y, z = pars\n",
    "        y_now = 0.5 * y @ (3. * identity - z @ y)\n",
    "        z_now = 0.5 * (3. * identity - z @ y) @ z\n",
    "        return (y_now, z_now)\n",
    "    k = 10\n",
    "    normalization = jnp.trace(a)\n",
    "    y = a.copy() / normalization\n",
    "    z = jnp.eye(a.shape[0])\n",
    "    identity = jnp.eye(a.shape[0])\n",
    "    (y, z) = jax.lax.fori_loop(0, k, body_fun, (y, z))\n",
    "    return y * jnp.sqrt(normalization)"
   ],
   "outputs": []
  },
  {
   "cell_type": "code",
   "execution_count": 164,
   "id": "1c286485-c35a-48eb-97ca-cee93ea35fd7",
   "metadata": {},
   "source": [
    "%%timeit\n",
    "for i in range(100):\n",
    "    sqrt_ns = sqrtm_newton_schulz_jax_loop(b32_j)"
   ],
   "outputs": []
  },
  {
   "cell_type": "code",
   "execution_count": 134,
   "id": "06395be5-1499-41dc-adcd-77c5056b1e7a",
   "metadata": {},
   "source": [
    "sqrt_np"
   ],
   "outputs": []
  },
  {
   "cell_type": "code",
   "execution_count": 135,
   "id": "3eeaf61d-0057-40b0-a240-2bc74bbd9019",
   "metadata": {},
   "source": [
    "sqrt_ns_j"
   ],
   "outputs": []
  },
  {
   "cell_type": "code",
   "execution_count": 183,
   "id": "5b69ee8b-1356-4944-bc65-fe753a0a3afc",
   "metadata": {},
   "source": [
    "jax.devices('gpu')"
   ],
   "outputs": []
  },
  {
   "cell_type": "code",
   "execution_count": null,
   "id": "a49e8986-5ccc-4964-ab1d-500234454d45",
   "metadata": {},
   "source": [],
   "outputs": []
  }
 ],
 "metadata": {
  "kernelspec": {
   "display_name": "Python 3 (ipykernel)",
   "language": "python",
   "name": "python3"
  },
  "language_info": {
   "codemirror_mode": {
    "name": "ipython",
    "version": 3
   },
   "file_extension": ".py",
   "mimetype": "text/x-python",
   "name": "python",
   "nbconvert_exporter": "python",
   "pygments_lexer": "ipython3",
   "version": "3.11.9"
  }
 },
 "nbformat": 4,
 "nbformat_minor": 5
}
