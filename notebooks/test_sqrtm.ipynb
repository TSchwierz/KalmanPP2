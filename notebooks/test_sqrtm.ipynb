{
 "cells": [
  {
   "cell_type": "code",
   "execution_count": 1,
   "id": "71e2fd0d-f763-4233-81b3-a5159526c3a6",
   "metadata": {},
   "outputs": [],
   "source": [
    "import numpy as np\n",
    "import scipy\n",
    "\n",
    "\n",
    "import jax \n",
    "import jax.numpy as jnp"
   ]
  },
  {
   "cell_type": "code",
   "execution_count": 2,
   "id": "fcdc7ab9-23fa-4b2a-be8f-79657f27ceae",
   "metadata": {},
   "outputs": [
    {
     "name": "stderr",
     "output_type": "stream",
     "text": [
      "Platform 'METAL' is experimental and not all JAX functionality may be correctly supported!\n"
     ]
    },
    {
     "name": "stdout",
     "output_type": "stream",
     "text": [
      "Metal device set to: Apple M2 Max\n"
     ]
    },
    {
     "name": "stderr",
     "output_type": "stream",
     "text": [
      "2024-05-03 09:43:34.675152: W pjrt_plugin/src/mps_client.cc:563] WARNING: JAX Apple GPU support is experimental and not all JAX functionality is correctly supported!\n"
     ]
    },
    {
     "data": {
      "text/plain": [
       "[METAL(id=0)]"
      ]
     },
     "execution_count": 2,
     "metadata": {},
     "output_type": "execute_result"
    }
   ],
   "source": [
    "jax.devices()"
   ]
  },
  {
   "cell_type": "code",
   "execution_count": 165,
   "id": "ad2dcd01-2d66-4c50-8a34-8267d8bcd9c7",
   "metadata": {},
   "outputs": [],
   "source": [
    "a = np.random.normal(size=(500, 500))"
   ]
  },
  {
   "cell_type": "code",
   "execution_count": 166,
   "id": "c2d37752-90fb-4a28-a65f-37e652d5d712",
   "metadata": {},
   "outputs": [],
   "source": [
    "b = a @ a.T"
   ]
  },
  {
   "cell_type": "code",
   "execution_count": 167,
   "id": "6a434d7e-fd5c-49cd-83df-eae0b327309c",
   "metadata": {},
   "outputs": [],
   "source": [
    "b32 = b.astype('float32')"
   ]
  },
  {
   "cell_type": "code",
   "execution_count": 168,
   "id": "6a35e95c-a3ea-45bc-bd74-694af696410e",
   "metadata": {},
   "outputs": [],
   "source": [
    "sqrt_np = scipy.linalg.sqrtm(b32)"
   ]
  },
  {
   "cell_type": "code",
   "execution_count": 169,
   "id": "1f9f274a-5c79-4846-8add-1b9cfef4e48d",
   "metadata": {},
   "outputs": [],
   "source": [
    "def sqrtm_newton_schulz(a):\n",
    "    k = 10\n",
    "    normalization = np.trace(a)\n",
    "    y = a.copy() / normalization\n",
    "    z = np.eye(a.shape[0])\n",
    "    identity = np.eye(a.shape[0])\n",
    "    for i in range(k):\n",
    "        y_now = 0.5 * y @ (3. * identity - z @ y)\n",
    "        z_now = 0.5 * (3. * identity - z @ y) @ z\n",
    "        y = y_now\n",
    "        z = z_now\n",
    "    return y * np.sqrt(normalization)"
   ]
  },
  {
   "cell_type": "code",
   "execution_count": 170,
   "id": "62aeb571-ae10-459e-8a74-d36c46e047ee",
   "metadata": {},
   "outputs": [],
   "source": [
    "sqrt_ns = sqrtm_newton_schulz(b32)"
   ]
  },
  {
   "cell_type": "code",
   "execution_count": 171,
   "id": "c3e91ba4-442a-4280-a440-90aabfd6b8db",
   "metadata": {},
   "outputs": [
    {
     "data": {
      "text/plain": [
       "0.03860921"
      ]
     },
     "execution_count": 171,
     "metadata": {},
     "output_type": "execute_result"
    }
   ],
   "source": [
    "np.mean(sqrt_np.ravel())"
   ]
  },
  {
   "cell_type": "code",
   "execution_count": 172,
   "id": "ba19203f-3607-4b02-b493-cd6c0bbf358b",
   "metadata": {},
   "outputs": [
    {
     "data": {
      "text/plain": [
       "-0.0013150125887562334"
      ]
     },
     "execution_count": 172,
     "metadata": {},
     "output_type": "execute_result"
    }
   ],
   "source": [
    "np.mean((sqrt_ns-sqrt_np).ravel())"
   ]
  },
  {
   "cell_type": "code",
   "execution_count": 175,
   "id": "a2fa38ea-5c8e-4167-84d1-c2766b25e901",
   "metadata": {},
   "outputs": [
    {
     "name": "stdout",
     "output_type": "stream",
     "text": [
      "281 ms ± 8.36 ms per loop (mean ± std. dev. of 7 runs, 1 loop each)\n"
     ]
    }
   ],
   "source": [
    "%%timeit\n",
    "\n",
    "sqrt_np = scipy.linalg.sqrtm(b32)"
   ]
  },
  {
   "cell_type": "code",
   "execution_count": 176,
   "id": "f54ae889-81f6-44df-b4dc-c6d8a833f67e",
   "metadata": {},
   "outputs": [
    {
     "name": "stdout",
     "output_type": "stream",
     "text": [
      "106 ms ± 2.6 ms per loop (mean ± std. dev. of 7 runs, 10 loops each)\n"
     ]
    }
   ],
   "source": [
    "%%timeit\n",
    "\n",
    "sqrt_ns = sqrtm_newton_schulz(b32)"
   ]
  },
  {
   "cell_type": "code",
   "execution_count": 157,
   "id": "73f2a6ed-1106-40ef-bbce-b4ed2534c61a",
   "metadata": {},
   "outputs": [
    {
     "data": {
      "text/plain": [
       "[METAL(id=0)]"
      ]
     },
     "execution_count": 157,
     "metadata": {},
     "output_type": "execute_result"
    }
   ],
   "source": [
    "jax.devices()"
   ]
  },
  {
   "cell_type": "code",
   "execution_count": 177,
   "id": "ae7733a4-5aa3-470c-a91e-a144e11e0905",
   "metadata": {},
   "outputs": [],
   "source": [
    "b32_j = jnp.array(b32)"
   ]
  },
  {
   "cell_type": "code",
   "execution_count": 178,
   "id": "bb917e29-db35-49fc-ad23-edce50938425",
   "metadata": {},
   "outputs": [],
   "source": [
    "@jax.jit\n",
    "def sqrtm_newton_schulz_jax(a):\n",
    "    k = 10\n",
    "    normalization = jnp.trace(a)\n",
    "    y = a.copy() / normalization\n",
    "    z = jnp.eye(a.shape[0])\n",
    "    identity = jnp.eye(a.shape[0])\n",
    "    for i in range(k):\n",
    "        y_now = 0.5 * y @ (3. * identity - z @ y)\n",
    "        z_now = 0.5 * (3. * identity - z @ y) @ z\n",
    "        y = y_now\n",
    "        z = z_now\n",
    "    return y * jnp.sqrt(normalization)"
   ]
  },
  {
   "cell_type": "code",
   "execution_count": 179,
   "id": "84e4b88b-f311-4e17-9b2e-4c697a8a08d6",
   "metadata": {},
   "outputs": [],
   "source": [
    "sqrt_ns_j = sqrtm_newton_schulz(b32_j)"
   ]
  },
  {
   "cell_type": "code",
   "execution_count": 180,
   "id": "693650fd-a184-4a2d-8951-9256c791c999",
   "metadata": {},
   "outputs": [
    {
     "data": {
      "text/plain": [
       "Array(-0.00131493, dtype=float32)"
      ]
     },
     "execution_count": 180,
     "metadata": {},
     "output_type": "execute_result"
    }
   ],
   "source": [
    "np.mean((sqrt_ns_j-sqrt_np).ravel())"
   ]
  },
  {
   "cell_type": "code",
   "execution_count": 181,
   "id": "8d6113d5-434f-4d63-aa30-35fb80c4f8b0",
   "metadata": {},
   "outputs": [
    {
     "name": "stdout",
     "output_type": "stream",
     "text": [
      "468 µs ± 65.7 µs per loop (mean ± std. dev. of 7 runs, 1 loop each)\n"
     ]
    }
   ],
   "source": [
    "%%timeit\n",
    "\n",
    "sqrt_ns = sqrtm_newton_schulz_jax(b32_j)"
   ]
  },
  {
   "cell_type": "code",
   "execution_count": 163,
   "id": "18958ddb-780b-4bfb-ae8d-72f59ddf46dc",
   "metadata": {},
   "outputs": [],
   "source": [
    "@jax.jit\n",
    "def sqrtm_newton_schulz_jax_loop(a):\n",
    "\n",
    "    def body_fun(i, pars):\n",
    "        y, z = pars\n",
    "        y_now = 0.5 * y @ (3. * identity - z @ y)\n",
    "        z_now = 0.5 * (3. * identity - z @ y) @ z\n",
    "        return (y_now, z_now)\n",
    "    k = 10\n",
    "    normalization = jnp.trace(a)\n",
    "    y = a.copy() / normalization\n",
    "    z = jnp.eye(a.shape[0])\n",
    "    identity = jnp.eye(a.shape[0])\n",
    "    (y, z) = jax.lax.fori_loop(0, k, body_fun, (y, z))\n",
    "    return y * jnp.sqrt(normalization)"
   ]
  },
  {
   "cell_type": "code",
   "execution_count": 164,
   "id": "1c286485-c35a-48eb-97ca-cee93ea35fd7",
   "metadata": {},
   "outputs": [
    {
     "name": "stdout",
     "output_type": "stream",
     "text": [
      "56.6 ms ± 278 µs per loop (mean ± std. dev. of 7 runs, 1 loop each)\n"
     ]
    }
   ],
   "source": [
    "%%timeit\n",
    "for i in range(100):\n",
    "    sqrt_ns = sqrtm_newton_schulz_jax_loop(b32_j)"
   ]
  },
  {
   "cell_type": "code",
   "execution_count": 134,
   "id": "06395be5-1499-41dc-adcd-77c5056b1e7a",
   "metadata": {},
   "outputs": [
    {
     "data": {
      "text/plain": [
       "array([[ 2.33130240e+00,  2.81554043e-01,  1.09425280e-02,\n",
       "        -7.68378615e-01, -1.02408528e+00,  3.05229928e-02,\n",
       "         1.98599786e-01,  2.92746842e-01, -1.48482010e-01,\n",
       "         9.51892585e-02],\n",
       "       [ 2.81554103e-01,  2.14266109e+00, -7.85147488e-01,\n",
       "         5.59842885e-01,  5.01165032e-01, -8.71865273e-01,\n",
       "         4.98518914e-01,  2.88285971e-01,  3.87258716e-02,\n",
       "        -5.86577393e-02],\n",
       "       [ 1.09424656e-02, -7.85147965e-01,  3.17536473e+00,\n",
       "        -4.03983951e-01, -8.71151984e-01, -1.30707189e-03,\n",
       "        -1.08615709e-02,  1.96505621e-01, -9.26938951e-01,\n",
       "        -1.41628847e-01],\n",
       "       [-7.68378675e-01,  5.59843779e-01, -4.03984666e-01,\n",
       "         2.60584831e+00,  1.31551996e-01,  2.57390589e-01,\n",
       "        -1.27274916e-01, -6.37116313e-01,  1.01954436e+00,\n",
       "         3.44771147e-01],\n",
       "       [-1.02408552e+00,  5.01166105e-01, -8.71152043e-01,\n",
       "         1.31551310e-01,  3.40686631e+00, -3.67351413e-01,\n",
       "         6.89415693e-01, -3.45420480e-01,  1.00823689e+00,\n",
       "        -5.82514584e-01],\n",
       "       [ 3.05223390e-02, -8.71864438e-01, -1.30711240e-03,\n",
       "         2.57389992e-01, -3.67351681e-01,  2.00217056e+00,\n",
       "         8.18833038e-02,  4.52127248e-01,  7.14326680e-01,\n",
       "        -9.02123034e-01],\n",
       "       [ 1.98600262e-01,  4.98518407e-01, -1.08615151e-02,\n",
       "        -1.27274781e-01,  6.89415574e-01,  8.18831772e-02,\n",
       "         2.56536794e+00, -5.20972848e-01, -2.80526131e-01,\n",
       "        -2.85779476e-01],\n",
       "       [ 2.92746872e-01,  2.88286090e-01,  1.96505666e-01,\n",
       "        -6.37116253e-01, -3.45420122e-01,  4.52127814e-01,\n",
       "        -5.20973444e-01,  2.17853713e+00,  2.49707624e-01,\n",
       "         1.12019658e-01],\n",
       "       [-1.48481712e-01,  3.87251116e-02, -9.26939189e-01,\n",
       "         1.01954508e+00,  1.00823748e+00,  7.14325786e-01,\n",
       "        -2.80525595e-01,  2.49707937e-01,  1.90817988e+00,\n",
       "         1.26898512e-01],\n",
       "       [ 9.51891243e-02, -5.86575232e-02, -1.41628832e-01,\n",
       "         3.44770849e-01, -5.82514882e-01, -9.02122855e-01,\n",
       "        -2.85779387e-01,  1.12019494e-01,  1.26898929e-01,\n",
       "         2.91773033e+00]], dtype=float32)"
      ]
     },
     "execution_count": 134,
     "metadata": {},
     "output_type": "execute_result"
    }
   ],
   "source": [
    "sqrt_np"
   ]
  },
  {
   "cell_type": "code",
   "execution_count": 135,
   "id": "3eeaf61d-0057-40b0-a240-2bc74bbd9019",
   "metadata": {},
   "outputs": [
    {
     "data": {
      "text/plain": [
       "Array([[ 2.3300555e+00,  2.8366032e-01,  1.1663947e-02, -7.7059537e-01,\n",
       "        -1.0251204e+00,  3.1487048e-02,  1.9835164e-01,  2.9107773e-01,\n",
       "        -1.4646366e-01,  9.5632270e-02],\n",
       "       [ 2.8366035e-01,  2.1357379e+00, -7.8712708e-01,  5.6494278e-01,\n",
       "         5.0138843e-01, -8.7825042e-01,  5.0081027e-01,  2.9328823e-01,\n",
       "         3.7338983e-02, -6.1612599e-02],\n",
       "       [ 1.1664016e-02, -7.8712684e-01,  3.1747723e+00, -4.0239438e-01,\n",
       "        -8.7089884e-01, -2.9422785e-03, -1.0293233e-02,  1.9796506e-01,\n",
       "        -9.2764670e-01, -1.4238487e-01],\n",
       "       [-7.7059507e-01,  5.6494278e-01, -4.0239418e-01,  2.6013591e+00,\n",
       "         1.3032401e-01,  2.6101714e-01, -1.2847038e-01, -6.4096165e-01,\n",
       "         1.0223191e+00,  3.4644756e-01],\n",
       "       [-1.0251204e+00,  5.0138843e-01, -8.7089902e-01,  1.3032392e-01,\n",
       "         3.4053125e+00, -3.6871079e-01,  6.9005990e-01, -3.4581569e-01,\n",
       "         1.0108309e+00, -5.8314741e-01],\n",
       "       [ 3.1487007e-02, -8.7825042e-01, -2.9422895e-03,  2.6101699e-01,\n",
       "        -3.6871040e-01,  1.9946938e+00,  8.4723771e-02,  4.5650527e-01,\n",
       "         7.1562797e-01, -9.0558457e-01],\n",
       "       [ 1.9835155e-01,  5.0081033e-01, -1.0293260e-02, -1.2847026e-01,\n",
       "         6.9005948e-01,  8.4723555e-02,  2.5642750e+00, -5.2251965e-01,\n",
       "        -2.8125018e-01, -2.8446504e-01],\n",
       "       [ 2.9107791e-01,  2.9328799e-01,  1.9796516e-01, -6.4096195e-01,\n",
       "        -3.4581575e-01,  4.5650551e-01, -5.2251953e-01,  2.1748877e+00,\n",
       "         2.5109470e-01,  1.1404535e-01],\n",
       "       [-1.4646398e-01,  3.7338994e-02, -9.2764646e-01,  1.0223187e+00,\n",
       "         1.0108314e+00,  7.1562803e-01, -2.8125015e-01,  2.5109458e-01,\n",
       "         1.9036955e+00,  1.2750758e-01],\n",
       "       [ 9.5632337e-02, -6.1612565e-02, -1.4238496e-01,  3.4644753e-01,\n",
       "        -5.8314764e-01, -9.0558445e-01, -2.8446513e-01,  1.1404538e-01,\n",
       "         1.2750757e-01,  2.9161291e+00]], dtype=float32)"
      ]
     },
     "execution_count": 135,
     "metadata": {},
     "output_type": "execute_result"
    }
   ],
   "source": [
    "sqrt_ns_j"
   ]
  },
  {
   "cell_type": "code",
   "execution_count": 183,
   "id": "5b69ee8b-1356-4944-bc65-fe753a0a3afc",
   "metadata": {},
   "outputs": [
    {
     "ename": "RuntimeError",
     "evalue": "Unknown backend: 'gpu' requested, but no platforms that are instances of gpu are present. Platforms present are: cpu,METAL",
     "output_type": "error",
     "traceback": [
      "\u001b[0;31m---------------------------------------------------------------------------\u001b[0m",
      "\u001b[0;31mRuntimeError\u001b[0m                              Traceback (most recent call last)",
      "Cell \u001b[0;32mIn[183], line 1\u001b[0m\n\u001b[0;32m----> 1\u001b[0m \u001b[43mjax\u001b[49m\u001b[38;5;241;43m.\u001b[39;49m\u001b[43mdevices\u001b[49m\u001b[43m(\u001b[49m\u001b[38;5;124;43m'\u001b[39;49m\u001b[38;5;124;43mgpu\u001b[39;49m\u001b[38;5;124;43m'\u001b[39;49m\u001b[43m)\u001b[49m\n",
      "File \u001b[0;32m~/miniconda3/envs/jax-metal/lib/python3.11/site-packages/jax/_src/xla_bridge.py:1047\u001b[0m, in \u001b[0;36mdevices\u001b[0;34m(backend)\u001b[0m\n\u001b[1;32m   1022\u001b[0m \u001b[38;5;28;01mdef\u001b[39;00m \u001b[38;5;21mdevices\u001b[39m(\n\u001b[1;32m   1023\u001b[0m     backend: \u001b[38;5;28mstr\u001b[39m \u001b[38;5;241m|\u001b[39m xla_client\u001b[38;5;241m.\u001b[39mClient \u001b[38;5;241m|\u001b[39m \u001b[38;5;28;01mNone\u001b[39;00m \u001b[38;5;241m=\u001b[39m \u001b[38;5;28;01mNone\u001b[39;00m\n\u001b[1;32m   1024\u001b[0m ) \u001b[38;5;241m-\u001b[39m\u001b[38;5;241m>\u001b[39m \u001b[38;5;28mlist\u001b[39m[xla_client\u001b[38;5;241m.\u001b[39mDevice]:\n\u001b[1;32m   1025\u001b[0m \u001b[38;5;250m  \u001b[39m\u001b[38;5;124;03m\"\"\"Returns a list of all devices for a given backend.\u001b[39;00m\n\u001b[1;32m   1026\u001b[0m \n\u001b[1;32m   1027\u001b[0m \u001b[38;5;124;03m  .. currentmodule:: jaxlib.xla_extension\u001b[39;00m\n\u001b[0;32m   (...)\u001b[0m\n\u001b[1;32m   1045\u001b[0m \u001b[38;5;124;03m    List of Device subclasses.\u001b[39;00m\n\u001b[1;32m   1046\u001b[0m \u001b[38;5;124;03m  \"\"\"\u001b[39;00m\n\u001b[0;32m-> 1047\u001b[0m   \u001b[38;5;28;01mreturn\u001b[39;00m \u001b[43mget_backend\u001b[49m\u001b[43m(\u001b[49m\u001b[43mbackend\u001b[49m\u001b[43m)\u001b[49m\u001b[38;5;241m.\u001b[39mdevices()\n",
      "File \u001b[0;32m~/miniconda3/envs/jax-metal/lib/python3.11/site-packages/jax/_src/xla_bridge.py:981\u001b[0m, in \u001b[0;36mget_backend\u001b[0;34m(platform)\u001b[0m\n\u001b[1;32m    977\u001b[0m \u001b[38;5;129m@lru_cache\u001b[39m(maxsize\u001b[38;5;241m=\u001b[39m\u001b[38;5;28;01mNone\u001b[39;00m)  \u001b[38;5;66;03m# don't use util.memoize because there is no X64 dependence.\u001b[39;00m\n\u001b[1;32m    978\u001b[0m \u001b[38;5;28;01mdef\u001b[39;00m \u001b[38;5;21mget_backend\u001b[39m(\n\u001b[1;32m    979\u001b[0m     platform: \u001b[38;5;28;01mNone\u001b[39;00m \u001b[38;5;241m|\u001b[39m \u001b[38;5;28mstr\u001b[39m \u001b[38;5;241m|\u001b[39m xla_client\u001b[38;5;241m.\u001b[39mClient \u001b[38;5;241m=\u001b[39m \u001b[38;5;28;01mNone\u001b[39;00m\n\u001b[1;32m    980\u001b[0m ) \u001b[38;5;241m-\u001b[39m\u001b[38;5;241m>\u001b[39m xla_client\u001b[38;5;241m.\u001b[39mClient:\n\u001b[0;32m--> 981\u001b[0m   \u001b[38;5;28;01mreturn\u001b[39;00m \u001b[43m_get_backend_uncached\u001b[49m\u001b[43m(\u001b[49m\u001b[43mplatform\u001b[49m\u001b[43m)\u001b[49m\n",
      "File \u001b[0;32m~/miniconda3/envs/jax-metal/lib/python3.11/site-packages/jax/_src/xla_bridge.py:962\u001b[0m, in \u001b[0;36m_get_backend_uncached\u001b[0;34m(platform)\u001b[0m\n\u001b[1;32m    960\u001b[0m bs \u001b[38;5;241m=\u001b[39m backends()\n\u001b[1;32m    961\u001b[0m \u001b[38;5;28;01mif\u001b[39;00m platform \u001b[38;5;129;01mis\u001b[39;00m \u001b[38;5;129;01mnot\u001b[39;00m \u001b[38;5;28;01mNone\u001b[39;00m:\n\u001b[0;32m--> 962\u001b[0m   platform \u001b[38;5;241m=\u001b[39m \u001b[43mcanonicalize_platform\u001b[49m\u001b[43m(\u001b[49m\u001b[43mplatform\u001b[49m\u001b[43m)\u001b[49m\n\u001b[1;32m    963\u001b[0m   backend \u001b[38;5;241m=\u001b[39m bs\u001b[38;5;241m.\u001b[39mget(platform, \u001b[38;5;28;01mNone\u001b[39;00m)\n\u001b[1;32m    964\u001b[0m   \u001b[38;5;28;01mif\u001b[39;00m backend \u001b[38;5;129;01mis\u001b[39;00m \u001b[38;5;28;01mNone\u001b[39;00m:\n",
      "File \u001b[0;32m~/miniconda3/envs/jax-metal/lib/python3.11/site-packages/jax/_src/xla_bridge.py:779\u001b[0m, in \u001b[0;36mcanonicalize_platform\u001b[0;34m(platform)\u001b[0m\n\u001b[1;32m    777\u001b[0m   \u001b[38;5;28;01mif\u001b[39;00m p \u001b[38;5;129;01min\u001b[39;00m b\u001b[38;5;241m.\u001b[39mkeys():\n\u001b[1;32m    778\u001b[0m     \u001b[38;5;28;01mreturn\u001b[39;00m p\n\u001b[0;32m--> 779\u001b[0m \u001b[38;5;28;01mraise\u001b[39;00m \u001b[38;5;167;01mRuntimeError\u001b[39;00m(\u001b[38;5;124mf\u001b[39m\u001b[38;5;124m\"\u001b[39m\u001b[38;5;124mUnknown backend: \u001b[39m\u001b[38;5;124m'\u001b[39m\u001b[38;5;132;01m{\u001b[39;00mplatform\u001b[38;5;132;01m}\u001b[39;00m\u001b[38;5;124m'\u001b[39m\u001b[38;5;124m requested, but no \u001b[39m\u001b[38;5;124m\"\u001b[39m\n\u001b[1;32m    780\u001b[0m                    \u001b[38;5;124mf\u001b[39m\u001b[38;5;124m\"\u001b[39m\u001b[38;5;124mplatforms that are instances of \u001b[39m\u001b[38;5;132;01m{\u001b[39;00mplatform\u001b[38;5;132;01m}\u001b[39;00m\u001b[38;5;124m are present. \u001b[39m\u001b[38;5;124m\"\u001b[39m\n\u001b[1;32m    781\u001b[0m                    \u001b[38;5;124m\"\u001b[39m\u001b[38;5;124mPlatforms present are: \u001b[39m\u001b[38;5;124m\"\u001b[39m \u001b[38;5;241m+\u001b[39m \u001b[38;5;124m\"\u001b[39m\u001b[38;5;124m,\u001b[39m\u001b[38;5;124m\"\u001b[39m\u001b[38;5;241m.\u001b[39mjoin(b\u001b[38;5;241m.\u001b[39mkeys()))\n",
      "\u001b[0;31mRuntimeError\u001b[0m: Unknown backend: 'gpu' requested, but no platforms that are instances of gpu are present. Platforms present are: cpu,METAL"
     ]
    }
   ],
   "source": [
    "jax.devices('gpu')"
   ]
  },
  {
   "cell_type": "code",
   "execution_count": null,
   "id": "a49e8986-5ccc-4964-ab1d-500234454d45",
   "metadata": {},
   "outputs": [],
   "source": []
  }
 ],
 "metadata": {
  "kernelspec": {
   "display_name": "Python 3 (ipykernel)",
   "language": "python",
   "name": "python3"
  },
  "language_info": {
   "codemirror_mode": {
    "name": "ipython",
    "version": 3
   },
   "file_extension": ".py",
   "mimetype": "text/x-python",
   "name": "python",
   "nbconvert_exporter": "python",
   "pygments_lexer": "ipython3",
   "version": "3.11.9"
  }
 },
 "nbformat": 4,
 "nbformat_minor": 5
}
