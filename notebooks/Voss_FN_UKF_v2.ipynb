{
 "cells": [
  {
   "cell_type": "markdown",
   "id": "339e1c39-a589-4739-a0f9-18572b3088c5",
   "metadata": {},
   "source": [
    "# Parameter tracking in a Fitzhugh-Nagumo system with an unscented Kalman filter \n",
    "\n",
    "Code adapted from Matlab by FPB \n",
    "\n",
    "### Original credit \n",
    "\n",
    "% Unscented Kalman Filter (UKF) applied to FitzHugh-Nagumo neuron dynamics.\n",
    "\n",
    "% Voltage observed, currents and inputs estimated.\n",
    "\n",
    "% FitzHughNagumo() is the main program and calls the other programs.\n",
    "\n",
    "% A detailed description is provided in\n",
    " H.U. Voss, J. Timmer & J. Kurths, Nonlinear dynamical system identification from uncertain and indirect measurements, Int. J. Bifurcation and Chaos 14, 1905-1933 (2004).\n",
    "\n",
    "I will be happy to email this paper on request. It contains a tutorial about the estimation of hidden states and unscented Kalman filtering.\n",
    "%\n",
    " For commercial use and questions, please contact me.\n",
    "%\n",
    "++++++++++++++++++++++++++++++++++++++++++++++\n",
    "\n",
    " Henning U. Voss, Ph.D.\n",
    " \n",
    " Associate Professor of Physics in Radiology\n",
    " \n",
    " Citigroup Biomedical Imaging Center\n",
    "\n",
    " Weill Medical College of Cornell University\n",
    " \n",
    " 516 E 72nd Street\n",
    " \n",
    " New York, NY 10021\n",
    " \n",
    " Tel. 001-212 746-5216, Fax. 001-212 746-6681\n",
    " \n",
    " Email: hev2006@med.cornell.edu\n",
    "++++++++++++++++++++++++++++++++++++++++++++++\n",
    "\n",
    "Written 15. 7. 2002\n",
    "\n",
    "Updated 30. 8. 2016 (R2015b):\n",
    "\n",
    " - Change of random number generator to ensure future compatibility\n",
    " \n",
    " - Eliminiation of yellow warnings\n"
   ]
  },
  {
   "cell_type": "code",
   "execution_count": 11,
   "id": "a496257c-1b4a-4e79-8e9b-a2a6bc0f8372",
   "metadata": {
    "ExecuteTime": {
     "end_time": "2024-02-29T10:55:47.897691Z",
     "start_time": "2024-02-29T10:55:46.463600Z"
    }
   },
   "source": [
    "import numpy as np\n",
    "import matplotlib.pyplot as plt\n",
    "from scipy.linalg import sqrtm, block_diag\n",
    "\n",
    "# Unscented Kalman Filter (UKF) applied to FitzHugh-Nagumo neuron dynamics."
   ],
   "outputs": []
  },
  {
   "cell_type": "markdown",
   "id": "ea841640-e3ff-4972-8f2b-9453494dab48",
   "metadata": {},
   "source": [
    "### Basic definitions"
   ]
  },
  {
   "cell_type": "markdown",
   "id": "94cfe94b-bb99-475b-9ae8-07ef7bf84f63",
   "metadata": {},
   "source": [
    "Here we define the basic parameters of the simulation. We give the parameters of the Fitzhugh Nagumo system we want to simulate `a, b, c` and the values that we use for our Kalman model `a_mod, b_mod, c_mod`. Importantly, in the starting \"easy\" case, these two sets are taken to be identical, but in general we have no access to the true parameters (nor will the \"real\" system be \"exactly\" FN) "
   ]
  },
  {
   "cell_type": "code",
   "execution_count": 12,
   "id": "995cf51d-a631-4915-ac3e-9d3764d6e7b7",
   "metadata": {
    "ExecuteTime": {
     "end_time": "2024-02-29T10:55:51.564714Z",
     "start_time": "2024-02-29T10:55:51.556494Z"
    }
   },
   "source": [
    "# Dimensions: dq for param. vector, dx augmented state, dy observation\n",
    "dq = 1\n",
    "dx = dq + 2\n",
    "dy = 1\n",
    "\n",
    "ll = 800  # number of data samples\n",
    "dT = 0.2  # sampling time step (global variable)\n",
    "\n",
    "a, b, c = 0.7, 0.8, 3. # these are the parameter value for the \"true\" target system\n",
    "\n",
    "#a_mod, b_mod, c_mod = a, b, c # these are the parameter values in our model. In this case identical\n",
    "                              # but it doesn't have to be (for example, we may not *know* the true \n",
    "                              # values\n",
    "a_mod, b_mod, c_mod = 0.7, 0.8, 3 # uncomment and change at will to experiment \n",
    "\n",
    "Q = 0.015  # process noise covariance matrix\n",
    "#Q = 0.0001\n",
    "R0 = 0.2 # observation noise standard deviation, in units of the standard deviations of the \"signal\""
   ],
   "outputs": []
  },
  {
   "cell_type": "markdown",
   "id": "bf725e83-7ea0-44fc-b2ca-7a8c57d02672",
   "metadata": {},
   "source": [
    "This is the function we use to generate the true system, that we will then try to estimate. "
   ]
  },
  {
   "cell_type": "code",
   "execution_count": 13,
   "id": "6bf42635-0c84-4897-8210-9904ee9b5f9c",
   "metadata": {
    "ExecuteTime": {
     "end_time": "2024-02-29T10:55:53.141459Z",
     "start_time": "2024-02-29T10:55:53.137452Z"
    }
   },
   "source": [
    "# Function for modeling data, not for UKF execution\n",
    "def FitzHughNagumo_int(x, z):\n",
    "    #a, b, c = 0.7, 0.8, 3.0\n",
    "    return np.array([c * (x[1] + x[0] - x[0]**3 / 3 + z), -(x[0] - a + b * x[1]) / c])"
   ],
   "outputs": []
  },
  {
   "cell_type": "markdown",
   "id": "18ea593b-8427-455c-8c85-e50dff8054a6",
   "metadata": {},
   "source": [
    "Here is the observation function. We assume that we are observing the membrane potential (or a noisy version thereof)"
   ]
  },
  {
   "cell_type": "code",
   "execution_count": 14,
   "id": "c64a8228-acc8-4c43-ac63-aa44d08a3e35",
   "metadata": {
    "ExecuteTime": {
     "end_time": "2024-02-29T10:55:53.818131Z",
     "start_time": "2024-02-29T10:55:53.812225Z"
    }
   },
   "source": [
    "# Observation function G(x)\n",
    "def FitzHughNagumo_obsfct(x):\n",
    "    return x[1, :]"
   ],
   "outputs": []
  },
  {
   "cell_type": "code",
   "execution_count": 15,
   "id": "0235f190-df19-4549-8533-b59bd44eca5a",
   "metadata": {
    "ExecuteTime": {
     "end_time": "2024-02-29T10:55:54.166576Z",
     "start_time": "2024-02-29T10:55:54.157875Z"
    }
   },
   "source": [
    "# Model function F(x)\n",
    "def fc(x, p):\n",
    "    a, b, c = a_mod, b_mod, c_mod\n",
    "    #p = p.ravel()\n",
    "    x = np.atleast_2d(x)\n",
    "    #return np.array([c * (x[1,:] + x[0,:] - x[0,:]**3 / 3 + p), -(x[0,:] - a + b * x[1,:]) / c])\n",
    "    rr = [np.atleast_2d(c * (x[1,:] + x[0,:] - x[0,:]**3 / 3 + p)), np.atleast_2d(-(x[0,:] - a + b * x[1,:]) / c)]\n",
    "    #print(rr)\n",
    "    return(np.vstack(rr))"
   ],
   "outputs": []
  },
  {
   "cell_type": "markdown",
   "id": "228cf0ff-f027-4df5-8f53-84f2bf4c9b32",
   "metadata": {},
   "source": [
    "Here we generate the data for the real system. `z` contains the external input (typically called `I` because it is a current. Following the paper, we will use a periodic function (\"piecewise sine wave\"). \n",
    "Because we are trying to estimate the external input as well, we augment out state vector so that it contains $(x(t), y(t), I(t))$ (following book notation, here `[z,x0[0],x0[1]]` )"
   ]
  },
  {
   "cell_type": "code",
   "execution_count": 16,
   "id": "34c7c2fd-f956-4dc6-b567-7d3020f99930",
   "metadata": {
    "ExecuteTime": {
     "end_time": "2024-02-29T10:55:54.770054Z",
     "start_time": "2024-02-29T10:55:54.766689Z"
    }
   },
   "source": [
    "# Simulating data\n",
    "x0 = np.zeros((2, ll))\n",
    "x0[:, 0] = [0, 0]  # true trajectory\n",
    "dt = 0.1 * dT\n",
    "nn = int(dT / dt)  # the integration time step is smaller than dT\n",
    "\n",
    "# External input, estimated as parameter p later on\n",
    "z = (np.arange(ll) / 250) * 2 * np.pi\n",
    "z = -0.4 - 1.01 * np.abs(np.sin(z / 2))\n",
    "#z = -.4 - 1.01 * np.abs(np.sin(z / 2))\n",
    "\n",
    "# 4th order Runge-Kutta integrator for FitzHugh-Nagumo system with external input\n",
    "for n in range(ll - 1):\n",
    "    xx = x0[:, n]\n",
    "    for i in range(nn):\n",
    "        k1 = dt * FitzHughNagumo_int(xx, z[n])\n",
    "        k2 = dt * FitzHughNagumo_int(xx + k1 / 2, z[n])\n",
    "        k3 = dt * FitzHughNagumo_int(xx + k2 / 2, z[n])\n",
    "        k4 = dt * FitzHughNagumo_int(xx + k3, z[n])\n",
    "        xx = xx + k1 / 6 + k2 / 3 + k3 / 3 + k4 / 6\n",
    "    x0[:, n + 1] = xx\n",
    "\n",
    "x = np.vstack([z, x0])  # augmented state vector (notation a bit different to paper)"
   ],
   "outputs": []
  },
  {
   "cell_type": "code",
   "execution_count": 17,
   "id": "a4650b69-efc3-488c-9e60-31129aca4151",
   "metadata": {
    "ExecuteTime": {
     "end_time": "2024-02-29T10:55:55.512132Z",
     "start_time": "2024-02-29T10:55:55.375926Z"
    }
   },
   "source": [
    "plt.figure()\n",
    "plt.plot(x[1,:])\n",
    "#plt.plot(xhat[1,1:6])\n",
    "plt.xlabel('Time')\n",
    "plt.ylabel('x (membrane potential)')"
   ],
   "outputs": []
  },
  {
   "cell_type": "markdown",
   "id": "98331e77-30eb-4d89-91c6-2c93fd0696de",
   "metadata": {},
   "source": [
    "Here we generate our observations, as a noisy copy of the $x(t)$ variable"
   ]
  },
  {
   "cell_type": "code",
   "execution_count": 18,
   "id": "7071311e-a2cd-4b1f-bdaf-2f852c3969d2",
   "metadata": {
    "ExecuteTime": {
     "end_time": "2024-02-29T10:55:56.881573Z",
     "start_time": "2024-02-29T10:55:56.877743Z"
    }
   },
   "source": [
    "R = R0**2 * np.var(FitzHughNagumo_obsfct(x)) * np.eye(dy, dy)  # observation noise covariance matrix\n",
    "np.random.seed(43211145)\n",
    "y = FitzHughNagumo_obsfct(x) + np.dot(sqrtm(R), np.random.randn(dy, ll))  # noisy data\n",
    "\n",
    "\n",
    "\n"
   ],
   "outputs": []
  },
  {
   "cell_type": "code",
   "execution_count": 19,
   "id": "ca973d67-29c8-4711-8728-43f29fb97547",
   "metadata": {
    "ExecuteTime": {
     "end_time": "2024-02-29T10:55:57.332373Z",
     "start_time": "2024-02-29T10:55:57.286646Z"
    }
   },
   "source": [
    "plt.plot(y.T)"
   ],
   "outputs": []
  },
  {
   "cell_type": "markdown",
   "id": "6fcee802-6db1-498d-9c11-537f72a28223",
   "metadata": {},
   "source": [
    "This is the Kalman model $F(x)$. Remember that the state vector includes the parameters (first `dq` \n",
    "indices) and the dynamical variables (remaining ones). The function leaves the parameter estimate \"as is\" and integrates (4th order Runge-Kutta) the dynamical variables for the interval corresponding to the discrete time step of the Kalman Filter.\n",
    "\n",
    "It is a generic function, that can be used for any sort of model. The model Fitzhugh-Nagumo equation is contained in the `fc` function, above. "
   ]
  },
  {
   "cell_type": "code",
   "execution_count": 20,
   "id": "2d67da5d-083f-4ce7-841f-d8eb5b6214ff",
   "metadata": {
    "ExecuteTime": {
     "end_time": "2024-02-29T10:55:58.093286Z",
     "start_time": "2024-02-29T10:55:58.090664Z"
    }
   },
   "source": [
    "def FitzHughNagumo_fct(dq, x):\n",
    "    # Model function F(x)\n",
    "\n",
    "    dt = 0.02  # local integration step\n",
    "    nn = int(np.fix(dT / dt))\n",
    "\n",
    "    p = x[:dq, :]\n",
    "    xnl = x[dq:, :]\n",
    "\n",
    "    # 4th order Runge-Kutta integrator for FitzHugh-Nagumo system with parameters\n",
    "    for i in range(nn):\n",
    "        #print(p)\n",
    "        k1 = dt * fc(xnl, p)\n",
    "        k2 = dt * fc(xnl + k1 / 2, p)\n",
    "        k3 = dt * fc(xnl + k2 / 2, p)\n",
    "        k4 = dt * fc(xnl + k3, p)\n",
    "        xnl = xnl + k1 / 6 + k2 / 3 + k3 / 3 + k4 / 6\n",
    "    #print(x.shape)\n",
    "    #print(xnl.shape)\n",
    "    \n",
    "    r = np.vstack([x[:dq, :], xnl])\n",
    "    return r\n"
   ],
   "outputs": []
  },
  {
   "cell_type": "markdown",
   "id": "57e01e6c-9eb3-4930-adde-5666c1c5440f",
   "metadata": {},
   "source": [
    "This is the Unscented Kalman Filter implementation (again, generic)"
   ]
  },
  {
   "cell_type": "code",
   "execution_count": 21,
   "id": "3eaa0c78-6c26-4b12-b9f2-79cbed7b705e",
   "metadata": {
    "ExecuteTime": {
     "end_time": "2024-02-29T10:55:58.933905Z",
     "start_time": "2024-02-29T10:55:58.931492Z"
    }
   },
   "source": [
    "# Unscented transformation. Not specific to FitzHugh-Nagumo model\n",
    "def ut(xhat, Pxx, y, fct, obsfct, dq, dx, dy, R):\n",
    "\n",
    "\n",
    "\t\n",
    "    #print(rr)\n",
    "    return(np.vstack(rr))\n",
    "    N = 2 * dx\n",
    "    \n",
    "    xsigma = sqrtm(dx * Pxx).T  # Pxx = root * root', but Pxx = chol' * chol\n",
    "    Xa = xhat[:, np.newaxis] + np.hstack([xsigma, -xsigma])\n",
    "    X = fct(dq, Xa)\n",
    "\n",
    "    xtilde = np.mean(X, axis=1)  # same as xtilde = np.sum(X, axis=1) / N\n",
    "\n",
    "    Pxx = np.zeros((dx, dx))\n",
    "    for i in range(N):\n",
    "        Pxx += np.outer((X[:, i] - xtilde), (X[:, i] - xtilde)) / N\n",
    "\n",
    "    Y = np.atleast_2d(obsfct(X))\n",
    "\n",
    "    ytilde = np.mean(Y, axis=1)\n",
    "    Pyy = R.copy()\n",
    "    for i in range(N):\n",
    "        Pyy += np.outer((Y[:, i] - ytilde), (Y[:, i] - ytilde)) / N\n",
    "\n",
    "    Pxy = np.zeros((dx, dy))\n",
    "    for i in range(N):\n",
    "        Pxy += np.outer((X[:, i] - xtilde), (Y[:, i] - ytilde)) / N\n",
    "\n",
    "    K = np.dot(Pxy, np.linalg.inv(Pyy))  # same as K = np.dot(Pxy, np.linalg.inv(Pyy))\n",
    "    xhat = xtilde + np.dot(K, (y - ytilde))\n",
    "    Pxx = Pxx - np.dot(K, Pxy.T)\n",
    "\n",
    "    return xhat, Pxx, K"
   ],
   "outputs": []
  },
  {
   "cell_type": "markdown",
   "id": "12c2a50c-7a2a-4d76-a3ea-d6621a93cc8d",
   "metadata": {},
   "source": [
    "Here is the main loop for the estimation of the UKF"
   ]
  },
  {
   "cell_type": "code",
   "execution_count": 22,
   "id": "3722c10d-2791-4f01-8126-2669a7193dd3",
   "metadata": {
    "collapsed": false,
    "ExecuteTime": {
     "end_time": "2024-02-29T10:55:59.827972Z",
     "start_time": "2024-02-29T10:55:59.824578Z"
    }
   },
   "source": [
    "def run_UKF(params):\n",
    "\t\n",
    "\ta_mod = params['a_mod']\n",
    "\tb_mod = params['b_mod']\n",
    "\tc_mod = params['c_mod']\n",
    "\t\n",
    "\t\n",
    "\t\n",
    "\t# Initial conditions\n",
    "\txhat = np.zeros((dx, ll))\n",
    "\txhat[:, 1] = x[:, 1]  # first guess of x_1 set to observation\n",
    "\t\n",
    "\tPxx = np.zeros((dx, dx, ll))\n",
    "\t\n",
    "\tPxx[:, :, 0] = block_diag(Q, R, R)\n",
    "\t\n",
    "\t\n",
    "\t# Variables for the estimation \n",
    "\terrors = np.zeros((dx, ll))\n",
    "\tKs = np.zeros((dx, dy, ll))  # Kalman gains\n",
    "\t\n",
    "\t# Main loop for recursive estimation\n",
    "\tfor k in range(1, ll):\n",
    "\t\txhat[:, k], Pxx[:, :, k], Ks[:, :, k] = ut(xhat[:, k - 1], Pxx[:, :, k - 1], y[:, k],\n",
    "\t\t\t\t\t\t\t\t\t\t\t\t\tFitzHughNagumo_fct, FitzHughNagumo_obsfct, dq, dx, dy, R)\n",
    "\t\n",
    "\t\tPxx[0, 0, k] = Q\n",
    "\t\n",
    "\t\terrors[:, k] = np.sqrt(np.diag(Pxx[:, :, k]))\n",
    "\t\n",
    "\t# Results\n",
    "\tchisq = np.mean((x[1, :] - xhat[1, :])**2 + (x[2, :] - xhat[2, :])**2)\n",
    "\tprint(f'Chi square = {chisq}')\n",
    "\n",
    "# Showing last estimated parameter, used for example for the final estimate of a constant parameter\n",
    "# est = xhat[:dq, -1].T\n",
    "# print(f'Estimated x = {est}')\n",
    "# error = errors[:dq, -1].T\n",
    "# print(f'Error = {error}')"
   ],
   "outputs": []
  },
  {
   "cell_type": "markdown",
   "id": "2695135e-9244-4f05-9248-5e5fa4167157",
   "metadata": {},
   "source": [
    "Results: (a) Comparing observations (blue), actual $x$ trajectory (black) and estimated trajectory (red).\n",
    "(b) real (black) and estimated (red) `y`, real (black) and estimated (magenta, with 1SD estimated errorbars) external `I` "
   ]
  },
  {
   "cell_type": "code",
   "execution_count": 111,
   "id": "d01f5940-f669-4542-854e-65cdd7dc2a56",
   "metadata": {
    "ExecuteTime": {
     "end_time": "2024-02-25T17:54:56.247735Z",
     "start_time": "2024-02-25T17:54:56.156834Z"
    }
   },
   "source": [
    "\n",
    "plt.figure()\n",
    "\n",
    "plt.subplot(2, 1, 1)\n",
    "plt.plot(y.ravel(), 'bd', markeredgecolor='blue', markerfacecolor='blue', markersize=3)\n",
    "plt.plot(x[dq + 0, :], color='black', linewidth=2)\n",
    "plt.plot(xhat[dq + 0, :], 'r', linewidth=2)\n",
    "plt.xlabel('t')\n",
    "plt.ylabel('x_1, y')\n",
    "plt.title('(a)')\n",
    "plt.legend(('observations', 'real x_1', 'estimated x_1'))\n",
    "plt.subplot(2, 1, 2)\n",
    "plt.plot(x[dq + 1, :], color='black', linewidth=2)\n",
    "plt.plot(xhat[dq + 1, :], 'r', linewidth=2)\n",
    "plt.plot(x[0, :], color='black', linewidth=2)\n",
    "for i in range(dq):\n",
    "    plt.plot(xhat[i, :], 'm', linewidth=2)\n",
    "for i in range(dq):\n",
    "    plt.plot(xhat[i, :] + errors[i, :], 'm')\n",
    "for i in range(dq):\n",
    "    plt.plot(xhat[i, :] - errors[i, :], 'm')\n",
    "    \n",
    "plt.xlabel('t')\n",
    "plt.ylabel('z, estimated z, x_2, estimated x_2')\n",
    "plt.title('(b)')\n",
    "\n",
    "\n",
    "plt.tight_layout()\n",
    "plt.show()"
   ],
   "outputs": []
  },
  {
   "cell_type": "code",
   "execution_count": 27,
   "id": "91a16e6a-42d4-4d22-9546-6167e278f430",
   "metadata": {},
   "source": [
    "plt.imshow(Pxx[:,:,500])\n",
    "plt.colorbar()"
   ],
   "outputs": []
  },
  {
   "cell_type": "code",
   "execution_count": null,
   "id": "b79fa924-c092-4316-82ee-47ad03b9e103",
   "metadata": {},
   "source": [
    "params = {'a_mod': 0.8, 'b_mod': 0.3, 'c_mod':3, 'Q': 0.015}\n",
    "\n",
    "run_UKF(params)\n",
    "\n",
    "c_values = np.arange(1, 3, 0.2)\n",
    "\n",
    "for c_value in c_values:\n",
    "\tparams['c_mod'] = c_value\n",
    "\trun_UKF(params)\n"
   ],
   "outputs": []
  },
  {
   "cell_type": "code",
   "execution_count": null,
   "source": [
    "def run_FN_UKF(params):\n",
    "\tdef fc(x, p):\n",
    "\t\ta, b, c = a_mod, b_mod, c_mod\n",
    "\t\t#p = p.ravel()\n",
    "\t\tx = np.atleast_2d(x)\n",
    "\t\t#return np.array([c * (x[1,:] + x[0,:] - x[0,:]**3 / 3 + p), -(x[0,:] - a + b * x[1,:]) / c])\n",
    "\t\trr = [np.atleast_2d(c * (x[1,:] + x[0,:] - x[0,:]**3 / 3 + p)), np.atleast_2d(-(x[0,:] - a + b * x[1,:]) / c)]\n",
    "\tdef FitzhughNagumo_fct:\n",
    "\t\tpass\n",
    "\t\n",
    "\tdef Fitzhhugh_obs_fct:\n",
    "\t\tpass\n",
    "\t\n",
    "\t\n",
    "\trun_UKF(params, FitzhughNagumo_fct, Fitzhhugh_obs_fct)\n",
    "\t\n",
    "\t\t\n",
    "\t\t"
   ],
   "metadata": {
    "collapsed": false
   },
   "id": "73acdf33b7b7200",
   "outputs": []
  },
  {
   "cell_type": "code",
   "execution_count": 1,
   "source": [
    "a = 4"
   ],
   "metadata": {
    "collapsed": false,
    "ExecuteTime": {
     "end_time": "2024-02-29T10:36:23.813823Z",
     "start_time": "2024-02-29T10:36:23.807562Z"
    }
   },
   "id": "c71df9063d38a348",
   "outputs": []
  },
  {
   "cell_type": "code",
   "execution_count": 2,
   "source": [
    "def func(x):\n",
    "\treturn x + a"
   ],
   "metadata": {
    "collapsed": false,
    "ExecuteTime": {
     "end_time": "2024-02-29T10:36:25.045367Z",
     "start_time": "2024-02-29T10:36:25.035145Z"
    }
   },
   "id": "1119b95294c86c50",
   "outputs": []
  },
  {
   "cell_type": "code",
   "execution_count": 3,
   "source": [
    "func(5)"
   ],
   "metadata": {
    "collapsed": false,
    "ExecuteTime": {
     "end_time": "2024-02-29T10:36:30.343656Z",
     "start_time": "2024-02-29T10:36:30.321987Z"
    }
   },
   "id": "1bccceaa0349488",
   "outputs": []
  },
  {
   "cell_type": "code",
   "execution_count": 8,
   "source": [
    "global a"
   ],
   "metadata": {
    "collapsed": false,
    "ExecuteTime": {
     "end_time": "2024-02-29T10:39:50.991732Z",
     "start_time": "2024-02-29T10:39:50.969219Z"
    }
   },
   "id": "fa33ec5e62e0a668",
   "outputs": []
  },
  {
   "cell_type": "code",
   "execution_count": 5,
   "source": [
    "func(5)"
   ],
   "metadata": {
    "collapsed": false,
    "ExecuteTime": {
     "end_time": "2024-02-29T10:36:38.077825Z",
     "start_time": "2024-02-29T10:36:38.055453Z"
    }
   },
   "id": "3b2a41f7f7696d8",
   "outputs": []
  },
  {
   "cell_type": "code",
   "execution_count": 9,
   "source": [
    "def another_func():\n",
    "\tglobal a\n",
    "\ta = 10\n",
    "\tprint(func(5))"
   ],
   "metadata": {
    "collapsed": false,
    "ExecuteTime": {
     "end_time": "2024-02-29T10:40:07.178058Z",
     "start_time": "2024-02-29T10:40:07.155105Z"
    }
   },
   "id": "f0117afa3e47ad0c",
   "outputs": []
  },
  {
   "cell_type": "code",
   "execution_count": 10,
   "source": [
    "another_func()"
   ],
   "metadata": {
    "collapsed": false,
    "ExecuteTime": {
     "end_time": "2024-02-29T10:40:10.852871Z",
     "start_time": "2024-02-29T10:40:10.829916Z"
    }
   },
   "id": "1f4674b9b586aff1",
   "outputs": []
  },
  {
   "cell_type": "code",
   "execution_count": null,
   "source": [],
   "metadata": {
    "collapsed": false
   },
   "id": "59a3e49f573f7170",
   "outputs": []
  }
 ],
 "metadata": {
  "kernelspec": {
   "display_name": "Python 3 (ipykernel)",
   "language": "python",
   "name": "python3"
  },
  "language_info": {
   "codemirror_mode": {
    "name": "ipython",
    "version": 3
   },
   "file_extension": ".py",
   "mimetype": "text/x-python",
   "name": "python",
   "nbconvert_exporter": "python",
   "pygments_lexer": "ipython3",
   "version": "3.11.7"
  }
 },
 "nbformat": 4,
 "nbformat_minor": 5
}
